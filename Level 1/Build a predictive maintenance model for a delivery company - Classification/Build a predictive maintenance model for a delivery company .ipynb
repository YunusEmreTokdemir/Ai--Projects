{
 "cells": [
  {
   "cell_type": "raw",
   "id": "0659c404-b718-4868-af89-3728cf197631",
   "metadata": {},
   "source": [
    "Bu proje; bir teslimat şirketi için tahmini bakım modeli oluşturan bir sınıflandırma (classification) projesidir.. Bu projede, sınıflandırma yöntemleri ile cihazların arızalanıp arızalanmayacağını tahmin etmeyi hedefliyorsunuz."
   ]
  },
  {
   "cell_type": "markdown",
   "id": "845aa595-c4f3-4e56-b174-70ce0b3eb688",
   "metadata": {},
   "source": [
    "# Gerekli importlar yapıldı"
   ]
  },
  {
   "cell_type": "code",
   "execution_count": 1,
   "id": "8363402a-1248-4869-84b1-bc8de0cb2a70",
   "metadata": {},
   "outputs": [],
   "source": [
    "import pandas as pd\n",
    "from imblearn.over_sampling import SMOTE"
   ]
  },
  {
   "cell_type": "markdown",
   "id": "964dde5b-d672-4a58-b784-9e6ae39080b8",
   "metadata": {},
   "source": [
    "# Dosya okunuyor"
   ]
  },
  {
   "cell_type": "code",
   "execution_count": 2,
   "id": "7236e911-ad95-4d9c-9928-ce245441d3a4",
   "metadata": {},
   "outputs": [],
   "source": [
    "df=pd.read_csv('failure.csv')"
   ]
  },
  {
   "cell_type": "markdown",
   "id": "7cb2c1bd-69df-4dc5-9bf4-9849d699bf60",
   "metadata": {},
   "source": [
    "# EDA "
   ]
  },
  {
   "cell_type": "code",
   "execution_count": 10,
   "id": "9fe304af-cdaa-4613-939c-d43b49f983fb",
   "metadata": {
    "scrolled": true
   },
   "outputs": [
    {
     "data": {
      "text/html": [
       "<div>\n",
       "<style scoped>\n",
       "    .dataframe tbody tr th:only-of-type {\n",
       "        vertical-align: middle;\n",
       "    }\n",
       "\n",
       "    .dataframe tbody tr th {\n",
       "        vertical-align: top;\n",
       "    }\n",
       "\n",
       "    .dataframe thead th {\n",
       "        text-align: right;\n",
       "    }\n",
       "</style>\n",
       "<table border=\"1\" class=\"dataframe\">\n",
       "  <thead>\n",
       "    <tr style=\"text-align: right;\">\n",
       "      <th></th>\n",
       "      <th>date</th>\n",
       "      <th>device</th>\n",
       "      <th>failure</th>\n",
       "      <th>attribute1</th>\n",
       "      <th>attribute2</th>\n",
       "      <th>attribute3</th>\n",
       "      <th>attribute4</th>\n",
       "      <th>attribute5</th>\n",
       "      <th>attribute6</th>\n",
       "      <th>attribute7</th>\n",
       "      <th>attribute8</th>\n",
       "      <th>attribute9</th>\n",
       "    </tr>\n",
       "  </thead>\n",
       "  <tbody>\n",
       "    <tr>\n",
       "      <th>0</th>\n",
       "      <td>2015-01-01</td>\n",
       "      <td>S1F01085</td>\n",
       "      <td>0</td>\n",
       "      <td>215630672</td>\n",
       "      <td>56</td>\n",
       "      <td>0</td>\n",
       "      <td>52</td>\n",
       "      <td>6</td>\n",
       "      <td>407438</td>\n",
       "      <td>0</td>\n",
       "      <td>0</td>\n",
       "      <td>7</td>\n",
       "    </tr>\n",
       "    <tr>\n",
       "      <th>1</th>\n",
       "      <td>2015-01-01</td>\n",
       "      <td>S1F0166B</td>\n",
       "      <td>0</td>\n",
       "      <td>61370680</td>\n",
       "      <td>0</td>\n",
       "      <td>3</td>\n",
       "      <td>0</td>\n",
       "      <td>6</td>\n",
       "      <td>403174</td>\n",
       "      <td>0</td>\n",
       "      <td>0</td>\n",
       "      <td>0</td>\n",
       "    </tr>\n",
       "    <tr>\n",
       "      <th>2</th>\n",
       "      <td>2015-01-01</td>\n",
       "      <td>S1F01E6Y</td>\n",
       "      <td>0</td>\n",
       "      <td>173295968</td>\n",
       "      <td>0</td>\n",
       "      <td>0</td>\n",
       "      <td>0</td>\n",
       "      <td>12</td>\n",
       "      <td>237394</td>\n",
       "      <td>0</td>\n",
       "      <td>0</td>\n",
       "      <td>0</td>\n",
       "    </tr>\n",
       "    <tr>\n",
       "      <th>3</th>\n",
       "      <td>2015-01-01</td>\n",
       "      <td>S1F01JE0</td>\n",
       "      <td>0</td>\n",
       "      <td>79694024</td>\n",
       "      <td>0</td>\n",
       "      <td>0</td>\n",
       "      <td>0</td>\n",
       "      <td>6</td>\n",
       "      <td>410186</td>\n",
       "      <td>0</td>\n",
       "      <td>0</td>\n",
       "      <td>0</td>\n",
       "    </tr>\n",
       "    <tr>\n",
       "      <th>4</th>\n",
       "      <td>2015-01-01</td>\n",
       "      <td>S1F01R2B</td>\n",
       "      <td>0</td>\n",
       "      <td>135970480</td>\n",
       "      <td>0</td>\n",
       "      <td>0</td>\n",
       "      <td>0</td>\n",
       "      <td>15</td>\n",
       "      <td>313173</td>\n",
       "      <td>0</td>\n",
       "      <td>0</td>\n",
       "      <td>3</td>\n",
       "    </tr>\n",
       "  </tbody>\n",
       "</table>\n",
       "</div>"
      ],
      "text/plain": [
       "         date    device  failure  attribute1  attribute2  attribute3  \\\n",
       "0  2015-01-01  S1F01085        0   215630672          56           0   \n",
       "1  2015-01-01  S1F0166B        0    61370680           0           3   \n",
       "2  2015-01-01  S1F01E6Y        0   173295968           0           0   \n",
       "3  2015-01-01  S1F01JE0        0    79694024           0           0   \n",
       "4  2015-01-01  S1F01R2B        0   135970480           0           0   \n",
       "\n",
       "   attribute4  attribute5  attribute6  attribute7  attribute8  attribute9  \n",
       "0          52           6      407438           0           0           7  \n",
       "1           0           6      403174           0           0           0  \n",
       "2           0          12      237394           0           0           0  \n",
       "3           0           6      410186           0           0           0  \n",
       "4           0          15      313173           0           0           3  "
      ]
     },
     "execution_count": 10,
     "metadata": {},
     "output_type": "execute_result"
    }
   ],
   "source": [
    "df.head()"
   ]
  },
  {
   "cell_type": "code",
   "execution_count": 4,
   "id": "43f13951-81c1-4938-ac4d-d02240414355",
   "metadata": {},
   "outputs": [
    {
     "data": {
      "text/plain": [
       "date          0\n",
       "device        0\n",
       "failure       0\n",
       "attribute1    0\n",
       "attribute2    0\n",
       "attribute3    0\n",
       "attribute4    0\n",
       "attribute5    0\n",
       "attribute6    0\n",
       "attribute7    0\n",
       "attribute8    0\n",
       "attribute9    0\n",
       "dtype: int64"
      ]
     },
     "execution_count": 4,
     "metadata": {},
     "output_type": "execute_result"
    }
   ],
   "source": [
    "df.isnull().sum()"
   ]
  },
  {
   "cell_type": "code",
   "execution_count": 5,
   "id": "c8bd41d2-5884-41c3-9076-e14e52c6da81",
   "metadata": {},
   "outputs": [
    {
     "data": {
      "text/plain": [
       "(124494, 12)"
      ]
     },
     "execution_count": 5,
     "metadata": {},
     "output_type": "execute_result"
    }
   ],
   "source": [
    "df.shape"
   ]
  },
  {
   "cell_type": "markdown",
   "id": "4f6bf6af-b5c3-482a-95ce-4033b0fcf186",
   "metadata": {},
   "source": [
    "# Dosyamızdaki dengesiz verileri smote ile düzenliyoruz"
   ]
  },
  {
   "cell_type": "code",
   "execution_count": 5,
   "id": "8f5267bf-b858-4976-b3f5-6cce13b4ee10",
   "metadata": {},
   "outputs": [],
   "source": [
    "# Özellikleri ve hedef değişkeni ayır\n",
    "x = df.drop(columns=['failure', 'date', 'device'])\n",
    "y = df['failure']\n",
    "\n",
    "# SMOTE uygulayarak veriyi dengele\n",
    "oversample = SMOTE()\n",
    "x, y = oversample.fit_resample(x, y)\n"
   ]
  },
  {
   "cell_type": "code",
   "execution_count": 6,
   "id": "0eb9ee4d-cf06-4dfa-9a17-df42b9e8eb5e",
   "metadata": {},
   "outputs": [
    {
     "name": "stdout",
     "output_type": "stream",
     "text": [
      "<class 'pandas.core.frame.DataFrame'>\n",
      "RangeIndex: 248776 entries, 0 to 248775\n",
      "Data columns (total 9 columns):\n",
      " #   Column      Non-Null Count   Dtype\n",
      "---  ------      --------------   -----\n",
      " 0   attribute1  248776 non-null  int64\n",
      " 1   attribute2  248776 non-null  int64\n",
      " 2   attribute3  248776 non-null  int64\n",
      " 3   attribute4  248776 non-null  int64\n",
      " 4   attribute5  248776 non-null  int64\n",
      " 5   attribute6  248776 non-null  int64\n",
      " 6   attribute7  248776 non-null  int64\n",
      " 7   attribute8  248776 non-null  int64\n",
      " 8   attribute9  248776 non-null  int64\n",
      "dtypes: int64(9)\n",
      "memory usage: 17.1 MB\n"
     ]
    }
   ],
   "source": [
    "x.info()"
   ]
  },
  {
   "cell_type": "code",
   "execution_count": 7,
   "id": "084a40d0-2f80-4a2f-a103-0b8f3fbf9efe",
   "metadata": {},
   "outputs": [
    {
     "name": "stdout",
     "output_type": "stream",
     "text": [
      "<class 'pandas.core.series.Series'>\n",
      "RangeIndex: 248776 entries, 0 to 248775\n",
      "Series name: failure\n",
      "Non-Null Count   Dtype\n",
      "--------------   -----\n",
      "248776 non-null  int64\n",
      "dtypes: int64(1)\n",
      "memory usage: 1.9 MB\n"
     ]
    }
   ],
   "source": [
    "y.info()"
   ]
  },
  {
   "cell_type": "markdown",
   "id": "5a6c060d-1c6d-418b-aead-8830a19820bc",
   "metadata": {},
   "source": [
    "# Tahminimizi yapıyoruz"
   ]
  },
  {
   "cell_type": "code",
   "execution_count": 8,
   "id": "a1ab7dc7-ce8a-437a-b394-ede29d677a6f",
   "metadata": {},
   "outputs": [],
   "source": [
    "import warnings\n",
    "warnings.filterwarnings(\"ignore\")\n",
    "pd.set_option(\"display.max_columns\", 100)\n",
    "\n",
    "from sklearn.linear_model import LogisticRegression\n",
    "from sklearn.neighbors import KNeighborsClassifier\n",
    "from sklearn.ensemble import AdaBoostClassifier, GradientBoostingClassifier, RandomForestClassifier\n",
    "from sklearn.tree import ExtraTreeClassifier, DecisionTreeClassifier\n",
    "from xgboost import XGBClassifier\n",
    "from sklearn.model_selection import train_test_split\n",
    "from sklearn.metrics import accuracy_score, precision_score, recall_score, f1_score\n",
    "\n",
    "def algo_test(x, y):\n",
    "    # Classification algorithms\n",
    "    LR = LogisticRegression()\n",
    "    ETR = ExtraTreeClassifier()\n",
    "    GBR = GradientBoostingClassifier()\n",
    "    kn = KNeighborsClassifier()\n",
    "    dt = DecisionTreeClassifier()\n",
    "    xgb = XGBClassifier()\n",
    "    ab = AdaBoostClassifier()\n",
    "    rf = RandomForestClassifier()\n",
    "\n",
    "    algos = [LR, ETR, GBR, kn, dt, xgb, ab, rf]\n",
    "    algo_names = ['Logistic Regression', 'Extra Tree', 'Gradient Boosting', 'KNeighbors', 'Decision Tree',\n",
    "                   'XGBClassifier', 'AdaBoost', 'Random Forest']\n",
    "\n",
    "    # Splitting into training and testing sets\n",
    "    x_train, x_test, y_train, y_test = train_test_split(x, y, test_size=0.2, random_state=42)\n",
    "\n",
    "    accuracy = []\n",
    "    precision = []\n",
    "    recall = []\n",
    "    f1 = []\n",
    "\n",
    "    result = pd.DataFrame(columns=['Accuracy', 'Precision', 'Recall', 'F1_Score'], index=algo_names)\n",
    "\n",
    "    for algo in algos:\n",
    "        # Training the model and making predictions\n",
    "        algo.fit(x_train, y_train)\n",
    "        y_pred = algo.predict(x_test)\n",
    "\n",
    "        # Calculating performance metrics\n",
    "        accuracy.append(accuracy_score(y_test, y_pred))\n",
    "        precision.append(precision_score(y_test, y_pred, average='weighted'))\n",
    "        recall.append(recall_score(y_test, y_pred, average='weighted'))\n",
    "        f1.append(f1_score(y_test, y_pred, average='weighted'))\n",
    "\n",
    "    result['Accuracy'] = accuracy\n",
    "    result['Precision'] = precision\n",
    "    result['Recall'] = recall\n",
    "    result['F1_Score'] = f1\n",
    "\n",
    "    # Sorting performance results\n",
    "    rtable = result.sort_values('F1_Score', ascending=False)\n",
    "    return rtable"
   ]
  },
  {
   "cell_type": "code",
   "execution_count": 9,
   "id": "f3b33ed4-1fdb-4287-b00a-b469f93aa430",
   "metadata": {},
   "outputs": [
    {
     "data": {
      "text/html": [
       "<div>\n",
       "<style scoped>\n",
       "    .dataframe tbody tr th:only-of-type {\n",
       "        vertical-align: middle;\n",
       "    }\n",
       "\n",
       "    .dataframe tbody tr th {\n",
       "        vertical-align: top;\n",
       "    }\n",
       "\n",
       "    .dataframe thead th {\n",
       "        text-align: right;\n",
       "    }\n",
       "</style>\n",
       "<table border=\"1\" class=\"dataframe\">\n",
       "  <thead>\n",
       "    <tr style=\"text-align: right;\">\n",
       "      <th></th>\n",
       "      <th>Accuracy</th>\n",
       "      <th>Precision</th>\n",
       "      <th>Recall</th>\n",
       "      <th>F1_Score</th>\n",
       "    </tr>\n",
       "  </thead>\n",
       "  <tbody>\n",
       "    <tr>\n",
       "      <th>Random Forest</th>\n",
       "      <td>0.999015</td>\n",
       "      <td>0.999016</td>\n",
       "      <td>0.999015</td>\n",
       "      <td>0.999015</td>\n",
       "    </tr>\n",
       "    <tr>\n",
       "      <th>Decision Tree</th>\n",
       "      <td>0.997488</td>\n",
       "      <td>0.997489</td>\n",
       "      <td>0.997488</td>\n",
       "      <td>0.997488</td>\n",
       "    </tr>\n",
       "    <tr>\n",
       "      <th>Extra Tree</th>\n",
       "      <td>0.997347</td>\n",
       "      <td>0.997350</td>\n",
       "      <td>0.997347</td>\n",
       "      <td>0.997347</td>\n",
       "    </tr>\n",
       "    <tr>\n",
       "      <th>XGBClassifier</th>\n",
       "      <td>0.996744</td>\n",
       "      <td>0.996752</td>\n",
       "      <td>0.996744</td>\n",
       "      <td>0.996744</td>\n",
       "    </tr>\n",
       "    <tr>\n",
       "      <th>Gradient Boosting</th>\n",
       "      <td>0.959100</td>\n",
       "      <td>0.959180</td>\n",
       "      <td>0.959100</td>\n",
       "      <td>0.959097</td>\n",
       "    </tr>\n",
       "    <tr>\n",
       "      <th>AdaBoost</th>\n",
       "      <td>0.939344</td>\n",
       "      <td>0.939652</td>\n",
       "      <td>0.939344</td>\n",
       "      <td>0.939338</td>\n",
       "    </tr>\n",
       "    <tr>\n",
       "      <th>KNeighbors</th>\n",
       "      <td>0.854570</td>\n",
       "      <td>0.858251</td>\n",
       "      <td>0.854570</td>\n",
       "      <td>0.854151</td>\n",
       "    </tr>\n",
       "    <tr>\n",
       "      <th>Logistic Regression</th>\n",
       "      <td>0.786398</td>\n",
       "      <td>0.823145</td>\n",
       "      <td>0.786398</td>\n",
       "      <td>0.780387</td>\n",
       "    </tr>\n",
       "  </tbody>\n",
       "</table>\n",
       "</div>"
      ],
      "text/plain": [
       "                     Accuracy  Precision    Recall  F1_Score\n",
       "Random Forest        0.999015   0.999016  0.999015  0.999015\n",
       "Decision Tree        0.997488   0.997489  0.997488  0.997488\n",
       "Extra Tree           0.997347   0.997350  0.997347  0.997347\n",
       "XGBClassifier        0.996744   0.996752  0.996744  0.996744\n",
       "Gradient Boosting    0.959100   0.959180  0.959100  0.959097\n",
       "AdaBoost             0.939344   0.939652  0.939344  0.939338\n",
       "KNeighbors           0.854570   0.858251  0.854570  0.854151\n",
       "Logistic Regression  0.786398   0.823145  0.786398  0.780387"
      ]
     },
     "execution_count": 9,
     "metadata": {},
     "output_type": "execute_result"
    }
   ],
   "source": [
    "algo_test(x, y)"
   ]
  },
  {
   "cell_type": "code",
   "execution_count": null,
   "id": "eda33950-7201-4f6d-ab7d-b64911a52b16",
   "metadata": {},
   "outputs": [],
   "source": []
  }
 ],
 "metadata": {
  "kernelspec": {
   "display_name": "Python 3 (ipykernel)",
   "language": "python",
   "name": "python3"
  },
  "language_info": {
   "codemirror_mode": {
    "name": "ipython",
    "version": 3
   },
   "file_extension": ".py",
   "mimetype": "text/x-python",
   "name": "python",
   "nbconvert_exporter": "python",
   "pygments_lexer": "ipython3",
   "version": "3.12.2"
  }
 },
 "nbformat": 4,
 "nbformat_minor": 5
}
