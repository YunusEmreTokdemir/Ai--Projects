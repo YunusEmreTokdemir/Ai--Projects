{
 "cells": [
  {
   "cell_type": "markdown",
   "id": "7cd1183f-c977-4638-94e8-6700814ef51d",
   "metadata": {},
   "source": [
    "# Bu projemizde Almanyadaki trafik ışıklarını tanıyıp bize hangi trafik ışığı olduğunu gösteren model eğiteceğiz. Veriler Kaggle üzerinden alınmıştır."
   ]
  },
  {
   "cell_type": "markdown",
   "id": "b8a12c4a-fcbc-42ce-a64f-69e49f8a4337",
   "metadata": {},
   "source": [
    "<a href='https://www.kaggle.com/datasets/meowmeowmeowmeowmeow/gtsrb-german-traffic-sign' target=_blank> Data dosyasını buradaki linkten indirebilirsiniz."
   ]
  },
  {
   "cell_type": "markdown",
   "id": "18350d92-1f69-40b1-9dd4-8c7b5227505e",
   "metadata": {},
   "source": [
    "# Kütüphaneleri import ediyoruz"
   ]
  },
  {
   "cell_type": "code",
   "execution_count": 11,
   "id": "9d520950-608f-42a3-a7fc-24af4194c600",
   "metadata": {},
   "outputs": [],
   "source": [
    "import pandas as pd\n",
    "import cv2\n",
    "import numpy as np\n",
    "import matplotlib.pyplot as plt\n",
    "\n",
    "from sklearn.model_selection import train_test_split\n",
    "from tensorflow.keras.utils import to_categorical\n",
    "from keras.models import Sequential\n",
    "from keras.layers import Conv2D, Dense, Flatten, Input, MaxPooling2D, Dropout, BatchNormalization, Reshape"
   ]
  },
  {
   "cell_type": "markdown",
   "id": "530defe2-f8d2-4879-b574-ffb64b43437a",
   "metadata": {},
   "source": [
    "# Dosyaları okuyoruz"
   ]
  },
  {
   "cell_type": "code",
   "execution_count": 2,
   "id": "d352858e-ff9f-48a1-9b4e-48fd9f1c409d",
   "metadata": {},
   "outputs": [],
   "source": [
    "train_df = pd.read_csv('archive/Train.csv')\n",
    "test_df = pd.read_csv('archive/Test.csv')\n",
    "meta_df = pd.read_csv('archive/Meta.csv')"
   ]
  },
  {
   "cell_type": "markdown",
   "id": "b5f900a0-e195-4cf4-b0cd-a0f5931a3410",
   "metadata": {},
   "source": [
    "# Eğitim ve test verisinden dosya yollarını ve classidleri alıyoruz"
   ]
  },
  {
   "cell_type": "code",
   "execution_count": 3,
   "id": "6a5abe76-411e-45b3-a7ae-92eeabf9f475",
   "metadata": {},
   "outputs": [],
   "source": [
    "# Eğitim veri setinden görüntü yolları ve sınıflar\n",
    "train_images = train_df['Path'].values\n",
    "train_labels = train_df['ClassId'].values\n",
    "\n",
    "# Test veri setinden görüntü yolları ve sınıflar\n",
    "test_images = test_df['Path'].values\n",
    "test_labels = test_df['ClassId'].values"
   ]
  },
  {
   "cell_type": "markdown",
   "id": "c02ed807-c33b-4ed4-b26b-914d8694b850",
   "metadata": {},
   "source": [
    "# test ve train datalarını 32x32 boyutuna aldık ve normalize ettik"
   ]
  },
  {
   "cell_type": "code",
   "execution_count": 4,
   "id": "08d81012-270e-4007-a0d1-54003efd033a",
   "metadata": {},
   "outputs": [],
   "source": [
    "test_data = []\n",
    "for img_path in test_images:\n",
    "    img = cv2.imread('archive/' + img_path)\n",
    "    img = cv2.cvtColor(img, cv2.COLOR_BGR2RGB)\n",
    "    img = cv2.resize(img, (32, 32))\n",
    "    img = img / 255.0\n",
    "    test_data.append(img)\n"
   ]
  },
  {
   "cell_type": "code",
   "execution_count": 5,
   "id": "b3b2095a-a3b9-461f-a0a1-a3700dfa9c2b",
   "metadata": {},
   "outputs": [],
   "source": [
    "train_data = []\n",
    "for img_path in train_images:\n",
    "    img = cv2.imread('archive/' + img_path)\n",
    "    img = cv2.cvtColor(img, cv2.COLOR_BGR2RGB)\n",
    "    img = cv2.resize(img, (32, 32))  # Tüm görüntüleri aynı boyuta getir\n",
    "    img= img / 255.0\n",
    "    train_data.append(img)"
   ]
  },
  {
   "cell_type": "code",
   "execution_count": 6,
   "id": "4112520d-6cd0-4ad9-963a-026a80b17911",
   "metadata": {},
   "outputs": [],
   "source": [
    "test_data = np.array(test_data)\n",
    "train_data = np.array(train_data) "
   ]
  },
  {
   "cell_type": "markdown",
   "id": "8b6b4329-d547-4e67-9d21-9fd29ff1b341",
   "metadata": {},
   "source": [
    "# train test split yapıyoruz"
   ]
  },
  {
   "cell_type": "code",
   "execution_count": 7,
   "id": "27be1dd2-e6cd-4bfe-820a-69e79d070c3e",
   "metadata": {},
   "outputs": [],
   "source": [
    "train_labels_categorical = to_categorical(train_labels, num_classes=43)\n",
    "test_labels_categorical = to_categorical(test_labels, num_classes=43)\n",
    "\n",
    "# Eğitim ve doğrulama verisi ayır\n",
    "X_train, X_val, y_train, y_val = train_test_split(train_data, train_labels_categorical, test_size=0.2, random_state=42)"
   ]
  },
  {
   "cell_type": "markdown",
   "id": "43a23ed2-e393-4fbd-bf44-dd2fc7b082d4",
   "metadata": {},
   "source": [
    "# modelimizi oluşturuyoruz"
   ]
  },
  {
   "cell_type": "code",
   "execution_count": 8,
   "id": "6a25cda1-cd70-44e6-b486-60b00ccefee3",
   "metadata": {},
   "outputs": [],
   "source": [
    "model = Sequential()\n",
    "\n",
    "model.add(Input(shape=(32, 32, 3)))\n",
    "\n",
    "model.add(Conv2D(32, kernel_size=(3, 3), activation='relu', padding='same'))\n",
    "model.add(BatchNormalization()) \n",
    "model.add(MaxPooling2D(pool_size=(2, 2)))\n",
    "model.add(Dropout(0.15))  \n",
    "\n",
    "model.add(Conv2D(64, kernel_size=(3, 3), activation='relu', padding='same'))\n",
    "model.add(BatchNormalization())\n",
    "model.add(MaxPooling2D(pool_size=(2, 2)))\n",
    "model.add(Dropout(0.20))\n",
    "\n",
    "model.add(Conv2D(128, kernel_size=(3, 3), activation='relu', padding='same'))\n",
    "model.add(BatchNormalization())\n",
    "model.add(MaxPooling2D(pool_size=(2, 2)))\n",
    "model.add(Dropout(0.25))\n",
    "\n",
    "model.add(Flatten())\n",
    "model.add(Dense(64, activation='relu'))\n",
    "model.add(Dropout(0.4)) \n",
    "model.add(Dense(32, activation='relu'))\n",
    "model.add(Dropout(0.4))\n",
    "\n",
    "model.add(Dense(43, activation='softmax'))  \n",
    "\n",
    "model.compile(optimizer='adam',loss='categorical_crossentropy',metrics=['accuracy'])"
   ]
  },
  {
   "cell_type": "markdown",
   "id": "dbca1a7d-b3a5-49e2-a02e-9fd346ceb3e4",
   "metadata": {},
   "source": [
    "# modelimizi eğitiyoruz"
   ]
  },
  {
   "cell_type": "code",
   "execution_count": 9,
   "id": "20d2fd6f-334e-4648-9c63-07b48e1bed0e",
   "metadata": {
    "scrolled": true
   },
   "outputs": [
    {
     "name": "stdout",
     "output_type": "stream",
     "text": [
      "Epoch 1/50\n",
      "\u001b[1m981/981\u001b[0m \u001b[32m━━━━━━━━━━━━━━━━━━━━\u001b[0m\u001b[37m\u001b[0m \u001b[1m17s\u001b[0m 17ms/step - accuracy: 0.1042 - loss: 3.4241 - val_accuracy: 0.4441 - val_loss: 1.7304\n",
      "Epoch 2/50\n",
      "\u001b[1m981/981\u001b[0m \u001b[32m━━━━━━━━━━━━━━━━━━━━\u001b[0m\u001b[37m\u001b[0m \u001b[1m20s\u001b[0m 21ms/step - accuracy: 0.3774 - loss: 1.9292 - val_accuracy: 0.6084 - val_loss: 1.0795\n",
      "Epoch 3/50\n",
      "\u001b[1m981/981\u001b[0m \u001b[32m━━━━━━━━━━━━━━━━━━━━\u001b[0m\u001b[37m\u001b[0m \u001b[1m22s\u001b[0m 22ms/step - accuracy: 0.5141 - loss: 1.3892 - val_accuracy: 0.7294 - val_loss: 0.7237\n",
      "Epoch 4/50\n",
      "\u001b[1m981/981\u001b[0m \u001b[32m━━━━━━━━━━━━━━━━━━━━\u001b[0m\u001b[37m\u001b[0m \u001b[1m22s\u001b[0m 22ms/step - accuracy: 0.6016 - loss: 1.0991 - val_accuracy: 0.8136 - val_loss: 0.5799\n",
      "Epoch 5/50\n",
      "\u001b[1m981/981\u001b[0m \u001b[32m━━━━━━━━━━━━━━━━━━━━\u001b[0m\u001b[37m\u001b[0m \u001b[1m21s\u001b[0m 22ms/step - accuracy: 0.6810 - loss: 0.8946 - val_accuracy: 0.8539 - val_loss: 0.3924\n",
      "Epoch 6/50\n",
      "\u001b[1m981/981\u001b[0m \u001b[32m━━━━━━━━━━━━━━━━━━━━\u001b[0m\u001b[37m\u001b[0m \u001b[1m21s\u001b[0m 21ms/step - accuracy: 0.7146 - loss: 0.8087 - val_accuracy: 0.9002 - val_loss: 0.3082\n",
      "Epoch 7/50\n",
      "\u001b[1m981/981\u001b[0m \u001b[32m━━━━━━━━━━━━━━━━━━━━\u001b[0m\u001b[37m\u001b[0m \u001b[1m21s\u001b[0m 21ms/step - accuracy: 0.7391 - loss: 0.7421 - val_accuracy: 0.9102 - val_loss: 0.2801\n",
      "Epoch 8/50\n",
      "\u001b[1m981/981\u001b[0m \u001b[32m━━━━━━━━━━━━━━━━━━━━\u001b[0m\u001b[37m\u001b[0m \u001b[1m22s\u001b[0m 22ms/step - accuracy: 0.7640 - loss: 0.6670 - val_accuracy: 0.9360 - val_loss: 0.2189\n",
      "Epoch 9/50\n",
      "\u001b[1m981/981\u001b[0m \u001b[32m━━━━━━━━━━━━━━━━━━━━\u001b[0m\u001b[37m\u001b[0m \u001b[1m23s\u001b[0m 23ms/step - accuracy: 0.7882 - loss: 0.6121 - val_accuracy: 0.9454 - val_loss: 0.1844\n",
      "Epoch 10/50\n",
      "\u001b[1m981/981\u001b[0m \u001b[32m━━━━━━━━━━━━━━━━━━━━\u001b[0m\u001b[37m\u001b[0m \u001b[1m23s\u001b[0m 23ms/step - accuracy: 0.7932 - loss: 0.6085 - val_accuracy: 0.9458 - val_loss: 0.1729\n",
      "Epoch 11/50\n",
      "\u001b[1m981/981\u001b[0m \u001b[32m━━━━━━━━━━━━━━━━━━━━\u001b[0m\u001b[37m\u001b[0m \u001b[1m20s\u001b[0m 20ms/step - accuracy: 0.8014 - loss: 0.5745 - val_accuracy: 0.9441 - val_loss: 0.1706\n",
      "Epoch 12/50\n",
      "\u001b[1m981/981\u001b[0m \u001b[32m━━━━━━━━━━━━━━━━━━━━\u001b[0m\u001b[37m\u001b[0m \u001b[1m20s\u001b[0m 20ms/step - accuracy: 0.8102 - loss: 0.5509 - val_accuracy: 0.9464 - val_loss: 0.1542\n",
      "Epoch 13/50\n",
      "\u001b[1m981/981\u001b[0m \u001b[32m━━━━━━━━━━━━━━━━━━━━\u001b[0m\u001b[37m\u001b[0m \u001b[1m22s\u001b[0m 22ms/step - accuracy: 0.8238 - loss: 0.5127 - val_accuracy: 0.9531 - val_loss: 0.1401\n",
      "Epoch 14/50\n",
      "\u001b[1m981/981\u001b[0m \u001b[32m━━━━━━━━━━━━━━━━━━━━\u001b[0m\u001b[37m\u001b[0m \u001b[1m20s\u001b[0m 21ms/step - accuracy: 0.8291 - loss: 0.5095 - val_accuracy: 0.9555 - val_loss: 0.1303\n",
      "Epoch 15/50\n",
      "\u001b[1m981/981\u001b[0m \u001b[32m━━━━━━━━━━━━━━━━━━━━\u001b[0m\u001b[37m\u001b[0m \u001b[1m19s\u001b[0m 19ms/step - accuracy: 0.8360 - loss: 0.4889 - val_accuracy: 0.9594 - val_loss: 0.1187\n",
      "Epoch 16/50\n",
      "\u001b[1m981/981\u001b[0m \u001b[32m━━━━━━━━━━━━━━━━━━━━\u001b[0m\u001b[37m\u001b[0m \u001b[1m19s\u001b[0m 19ms/step - accuracy: 0.8387 - loss: 0.4935 - val_accuracy: 0.9656 - val_loss: 0.1212\n",
      "Epoch 17/50\n",
      "\u001b[1m981/981\u001b[0m \u001b[32m━━━━━━━━━━━━━━━━━━━━\u001b[0m\u001b[37m\u001b[0m \u001b[1m19s\u001b[0m 19ms/step - accuracy: 0.8430 - loss: 0.4720 - val_accuracy: 0.9693 - val_loss: 0.1083\n",
      "Epoch 18/50\n",
      "\u001b[1m981/981\u001b[0m \u001b[32m━━━━━━━━━━━━━━━━━━━━\u001b[0m\u001b[37m\u001b[0m \u001b[1m21s\u001b[0m 21ms/step - accuracy: 0.8510 - loss: 0.4528 - val_accuracy: 0.9671 - val_loss: 0.0997\n",
      "Epoch 19/50\n",
      "\u001b[1m981/981\u001b[0m \u001b[32m━━━━━━━━━━━━━━━━━━━━\u001b[0m\u001b[37m\u001b[0m \u001b[1m21s\u001b[0m 21ms/step - accuracy: 0.8553 - loss: 0.4492 - val_accuracy: 0.9760 - val_loss: 0.0948\n",
      "Epoch 20/50\n",
      "\u001b[1m981/981\u001b[0m \u001b[32m━━━━━━━━━━━━━━━━━━━━\u001b[0m\u001b[37m\u001b[0m \u001b[1m21s\u001b[0m 21ms/step - accuracy: 0.8486 - loss: 0.4606 - val_accuracy: 0.9748 - val_loss: 0.0935\n",
      "Epoch 21/50\n",
      "\u001b[1m981/981\u001b[0m \u001b[32m━━━━━━━━━━━━━━━━━━━━\u001b[0m\u001b[37m\u001b[0m \u001b[1m21s\u001b[0m 21ms/step - accuracy: 0.8570 - loss: 0.4361 - val_accuracy: 0.9796 - val_loss: 0.0820\n",
      "Epoch 22/50\n",
      "\u001b[1m981/981\u001b[0m \u001b[32m━━━━━━━━━━━━━━━━━━━━\u001b[0m\u001b[37m\u001b[0m \u001b[1m20s\u001b[0m 21ms/step - accuracy: 0.8621 - loss: 0.4176 - val_accuracy: 0.9799 - val_loss: 0.0789\n",
      "Epoch 23/50\n",
      "\u001b[1m981/981\u001b[0m \u001b[32m━━━━━━━━━━━━━━━━━━━━\u001b[0m\u001b[37m\u001b[0m \u001b[1m20s\u001b[0m 21ms/step - accuracy: 0.8678 - loss: 0.4054 - val_accuracy: 0.9787 - val_loss: 0.0688\n",
      "Epoch 24/50\n",
      "\u001b[1m981/981\u001b[0m \u001b[32m━━━━━━━━━━━━━━━━━━━━\u001b[0m\u001b[37m\u001b[0m \u001b[1m21s\u001b[0m 22ms/step - accuracy: 0.8688 - loss: 0.4098 - val_accuracy: 0.9813 - val_loss: 0.0715\n",
      "Epoch 25/50\n",
      "\u001b[1m981/981\u001b[0m \u001b[32m━━━━━━━━━━━━━━━━━━━━\u001b[0m\u001b[37m\u001b[0m \u001b[1m20s\u001b[0m 21ms/step - accuracy: 0.8695 - loss: 0.4089 - val_accuracy: 0.9719 - val_loss: 0.0917\n",
      "Epoch 26/50\n",
      "\u001b[1m981/981\u001b[0m \u001b[32m━━━━━━━━━━━━━━━━━━━━\u001b[0m\u001b[37m\u001b[0m \u001b[1m20s\u001b[0m 21ms/step - accuracy: 0.8720 - loss: 0.3922 - val_accuracy: 0.9870 - val_loss: 0.0581\n",
      "Epoch 27/50\n",
      "\u001b[1m981/981\u001b[0m \u001b[32m━━━━━━━━━━━━━━━━━━━━\u001b[0m\u001b[37m\u001b[0m \u001b[1m21s\u001b[0m 21ms/step - accuracy: 0.8708 - loss: 0.4077 - val_accuracy: 0.9813 - val_loss: 0.0601\n",
      "Epoch 28/50\n",
      "\u001b[1m981/981\u001b[0m \u001b[32m━━━━━━━━━━━━━━━━━━━━\u001b[0m\u001b[37m\u001b[0m \u001b[1m21s\u001b[0m 21ms/step - accuracy: 0.8788 - loss: 0.3827 - val_accuracy: 0.9874 - val_loss: 0.0610\n",
      "Epoch 29/50\n",
      "\u001b[1m981/981\u001b[0m \u001b[32m━━━━━━━━━━━━━━━━━━━━\u001b[0m\u001b[37m\u001b[0m \u001b[1m21s\u001b[0m 21ms/step - accuracy: 0.8794 - loss: 0.3838 - val_accuracy: 0.9823 - val_loss: 0.0626\n",
      "Epoch 30/50\n",
      "\u001b[1m981/981\u001b[0m \u001b[32m━━━━━━━━━━━━━━━━━━━━\u001b[0m\u001b[37m\u001b[0m \u001b[1m21s\u001b[0m 21ms/step - accuracy: 0.8814 - loss: 0.3805 - val_accuracy: 0.9862 - val_loss: 0.0539\n",
      "Epoch 31/50\n",
      "\u001b[1m981/981\u001b[0m \u001b[32m━━━━━━━━━━━━━━━━━━━━\u001b[0m\u001b[37m\u001b[0m \u001b[1m21s\u001b[0m 21ms/step - accuracy: 0.8791 - loss: 0.3779 - val_accuracy: 0.9814 - val_loss: 0.0671\n",
      "Epoch 32/50\n",
      "\u001b[1m981/981\u001b[0m \u001b[32m━━━━━━━━━━━━━━━━━━━━\u001b[0m\u001b[37m\u001b[0m \u001b[1m23s\u001b[0m 23ms/step - accuracy: 0.8867 - loss: 0.3591 - val_accuracy: 0.9848 - val_loss: 0.0553\n",
      "Epoch 33/50\n",
      "\u001b[1m981/981\u001b[0m \u001b[32m━━━━━━━━━━━━━━━━━━━━\u001b[0m\u001b[37m\u001b[0m \u001b[1m18s\u001b[0m 19ms/step - accuracy: 0.8864 - loss: 0.3623 - val_accuracy: 0.9890 - val_loss: 0.0522\n",
      "Epoch 34/50\n",
      "\u001b[1m981/981\u001b[0m \u001b[32m━━━━━━━━━━━━━━━━━━━━\u001b[0m\u001b[37m\u001b[0m \u001b[1m20s\u001b[0m 20ms/step - accuracy: 0.8869 - loss: 0.3601 - val_accuracy: 0.9878 - val_loss: 0.0516\n",
      "Epoch 35/50\n",
      "\u001b[1m981/981\u001b[0m \u001b[32m━━━━━━━━━━━━━━━━━━━━\u001b[0m\u001b[37m\u001b[0m \u001b[1m19s\u001b[0m 20ms/step - accuracy: 0.8893 - loss: 0.3586 - val_accuracy: 0.9880 - val_loss: 0.0514\n",
      "Epoch 36/50\n",
      "\u001b[1m981/981\u001b[0m \u001b[32m━━━━━━━━━━━━━━━━━━━━\u001b[0m\u001b[37m\u001b[0m \u001b[1m19s\u001b[0m 19ms/step - accuracy: 0.8925 - loss: 0.3408 - val_accuracy: 0.9925 - val_loss: 0.0467\n",
      "Epoch 37/50\n",
      "\u001b[1m981/981\u001b[0m \u001b[32m━━━━━━━━━━━━━━━━━━━━\u001b[0m\u001b[37m\u001b[0m \u001b[1m20s\u001b[0m 20ms/step - accuracy: 0.8924 - loss: 0.3382 - val_accuracy: 0.9930 - val_loss: 0.0467\n",
      "Epoch 38/50\n",
      "\u001b[1m981/981\u001b[0m \u001b[32m━━━━━━━━━━━━━━━━━━━━\u001b[0m\u001b[37m\u001b[0m \u001b[1m19s\u001b[0m 19ms/step - accuracy: 0.8983 - loss: 0.3262 - val_accuracy: 0.9814 - val_loss: 0.0571\n",
      "Epoch 39/50\n",
      "\u001b[1m981/981\u001b[0m \u001b[32m━━━━━━━━━━━━━━━━━━━━\u001b[0m\u001b[37m\u001b[0m \u001b[1m20s\u001b[0m 21ms/step - accuracy: 0.8923 - loss: 0.3459 - val_accuracy: 0.9932 - val_loss: 0.0481\n",
      "Epoch 40/50\n",
      "\u001b[1m981/981\u001b[0m \u001b[32m━━━━━━━━━━━━━━━━━━━━\u001b[0m\u001b[37m\u001b[0m \u001b[1m21s\u001b[0m 22ms/step - accuracy: 0.8967 - loss: 0.3361 - val_accuracy: 0.9864 - val_loss: 0.0413\n",
      "Epoch 41/50\n",
      "\u001b[1m981/981\u001b[0m \u001b[32m━━━━━━━━━━━━━━━━━━━━\u001b[0m\u001b[37m\u001b[0m \u001b[1m21s\u001b[0m 21ms/step - accuracy: 0.8968 - loss: 0.3266 - val_accuracy: 0.9943 - val_loss: 0.0466\n",
      "Epoch 42/50\n",
      "\u001b[1m981/981\u001b[0m \u001b[32m━━━━━━━━━━━━━━━━━━━━\u001b[0m\u001b[37m\u001b[0m \u001b[1m21s\u001b[0m 21ms/step - accuracy: 0.9026 - loss: 0.3168 - val_accuracy: 0.9786 - val_loss: 0.0708\n",
      "Epoch 43/50\n",
      "\u001b[1m981/981\u001b[0m \u001b[32m━━━━━━━━━━━━━━━━━━━━\u001b[0m\u001b[37m\u001b[0m \u001b[1m21s\u001b[0m 21ms/step - accuracy: 0.8975 - loss: 0.3358 - val_accuracy: 0.9918 - val_loss: 0.0492\n",
      "Epoch 44/50\n",
      "\u001b[1m981/981\u001b[0m \u001b[32m━━━━━━━━━━━━━━━━━━━━\u001b[0m\u001b[37m\u001b[0m \u001b[1m21s\u001b[0m 22ms/step - accuracy: 0.9025 - loss: 0.3113 - val_accuracy: 0.9911 - val_loss: 0.0447\n",
      "Epoch 45/50\n",
      "\u001b[1m981/981\u001b[0m \u001b[32m━━━━━━━━━━━━━━━━━━━━\u001b[0m\u001b[37m\u001b[0m \u001b[1m21s\u001b[0m 22ms/step - accuracy: 0.9053 - loss: 0.3050 - val_accuracy: 0.9906 - val_loss: 0.0386\n",
      "Epoch 46/50\n",
      "\u001b[1m981/981\u001b[0m \u001b[32m━━━━━━━━━━━━━━━━━━━━\u001b[0m\u001b[37m\u001b[0m \u001b[1m22s\u001b[0m 22ms/step - accuracy: 0.9039 - loss: 0.3133 - val_accuracy: 0.9915 - val_loss: 0.0392\n",
      "Epoch 47/50\n",
      "\u001b[1m981/981\u001b[0m \u001b[32m━━━━━━━━━━━━━━━━━━━━\u001b[0m\u001b[37m\u001b[0m \u001b[1m21s\u001b[0m 21ms/step - accuracy: 0.9071 - loss: 0.3029 - val_accuracy: 0.9955 - val_loss: 0.0339\n",
      "Epoch 48/50\n",
      "\u001b[1m981/981\u001b[0m \u001b[32m━━━━━━━━━━━━━━━━━━━━\u001b[0m\u001b[37m\u001b[0m \u001b[1m22s\u001b[0m 22ms/step - accuracy: 0.9029 - loss: 0.3268 - val_accuracy: 0.9895 - val_loss: 0.0356\n",
      "Epoch 49/50\n",
      "\u001b[1m981/981\u001b[0m \u001b[32m━━━━━━━━━━━━━━━━━━━━\u001b[0m\u001b[37m\u001b[0m \u001b[1m22s\u001b[0m 22ms/step - accuracy: 0.9099 - loss: 0.2911 - val_accuracy: 0.9916 - val_loss: 0.0336\n",
      "Epoch 50/50\n",
      "\u001b[1m981/981\u001b[0m \u001b[32m━━━━━━━━━━━━━━━━━━━━\u001b[0m\u001b[37m\u001b[0m \u001b[1m21s\u001b[0m 22ms/step - accuracy: 0.9111 - loss: 0.2932 - val_accuracy: 0.9940 - val_loss: 0.0395\n"
     ]
    }
   ],
   "source": [
    "history = model.fit(X_train, y_train, validation_data=(X_val, y_val), epochs=50, batch_size=32)"
   ]
  },
  {
   "cell_type": "markdown",
   "id": "be518dfe-f93d-420c-b2e0-96c57e46850d",
   "metadata": {},
   "source": [
    "# modelimizi kaydediyoruz"
   ]
  },
  {
   "cell_type": "code",
   "execution_count": 10,
   "id": "dc2dff92-2cc7-4564-888e-c84342686f59",
   "metadata": {},
   "outputs": [
    {
     "name": "stderr",
     "output_type": "stream",
     "text": [
      "WARNING:absl:You are saving your model as an HDF5 file via `model.save()` or `keras.saving.save_model(model)`. This file format is considered legacy. We recommend using instead the native Keras format, e.g. `model.save('my_model.keras')` or `keras.saving.save_model(model, 'my_model.keras')`. \n"
     ]
    }
   ],
   "source": [
    "model.save('capstone.h5')"
   ]
  },
  {
   "cell_type": "markdown",
   "id": "cbd7cb13-f54f-4b57-bd8e-6ef360cb4498",
   "metadata": {},
   "source": [
    "# görselleştirma yapıyoruz"
   ]
  },
  {
   "cell_type": "code",
   "execution_count": 12,
   "id": "41052d86-9882-4a6f-99cd-8095115d1b7e",
   "metadata": {
    "scrolled": true
   },
   "outputs": [
    {
     "data": {
      "image/png": "[encoded data removed]",
      "text/plain": [
       "<Figure size 640x480 with 1 Axes>"
      ]
     },
     "metadata": {},
     "output_type": "display_data"
    },
    {
     "data": {
      "image/png": "[encoded data removed]",
      "text/plain": [
       "<Figure size 640x480 with 1 Axes>"
      ]
     },
     "metadata": {},
     "output_type": "display_data"
    }
   ],
   "source": [
    "# Eğitim ve doğrulama kaybı\n",
    "plt.plot(history.history['loss'], label='Training Loss')\n",
    "plt.plot(history.history['val_loss'], label='Validation Loss')\n",
    "plt.legend()\n",
    "plt.title('Model Loss')\n",
    "plt.show()\n",
    "\n",
    "# Eğitim ve doğrulama doğruluğu\n",
    "plt.plot(history.history['accuracy'], label='Training Accuracy')\n",
    "plt.plot(history.history['val_accuracy'], label='Validation Accuracy')\n",
    "plt.legend()\n",
    "plt.title('Model Accuracy')\n",
    "plt.show()\n"
   ]
  },
  {
   "cell_type": "markdown",
   "id": "7358fb47-f829-4522-83da-4877beed3041",
   "metadata": {},
   "source": [
    "# Sonuç"
   ]
  },
  {
   "cell_type": "raw",
   "id": "9a5be335-ce9d-4348-9a9e-0c6c56edfd95",
   "metadata": {},
   "source": [
    "Bu proje kapsamında, trafik işaretlerini sınıflandırmak amacıyla bir derin öğrenme modeli eğitildi. Model, 32x32 boyutunda RGB görüntüleri kullanarak 43 farklı trafik işareti sınıfını tanıyacak şekilde tasarlandı. Eğitim sürecinde elde edilen sonuçlar oldukça başarılı oldu. Modelin eğitim verisi üzerindeki doğruluk oranı %91.11 olarak kaydedilirken, doğrulama (validation) verisi üzerindeki doğruluk oranı %99.40'a ulaşmıştır. Bu sonuçlar, modelin genel performansının oldukça iyi olduğunu ve trafik işaretlerini doğru şekilde sınıflandırmada yüksek başarı gösterdiğini ortaya koymaktadır. Eğitimde elde edilen düşük kayıp (loss) değerleri ve yüksek doğruluk oranları, modelin doğru şekilde öğrenme gerçekleştirdiğini ve test verisinde başarılı bir şekilde genelleme yapabildiğini göstermektedir. "
   ]
  },
  {
   "cell_type": "code",
   "execution_count": null,
   "id": "91990dad-0b37-4b96-a6ab-ecdf914e6ecc",
   "metadata": {},
   "outputs": [],
   "source": []
  }
 ],
 "metadata": {
  "kernelspec": {
   "display_name": "Python 3 (ipykernel)",
   "language": "python",
   "name": "python3"
  },
  "language_info": {
   "codemirror_mode": {
    "name": "ipython",
    "version": 3
   },
   "file_extension": ".py",
   "mimetype": "text/x-python",
   "name": "python",
   "nbconvert_exporter": "python",
   "pygments_lexer": "ipython3",
   "version": "3.12.2"
  }
 },
 "nbformat": 4,
 "nbformat_minor": 5
}
