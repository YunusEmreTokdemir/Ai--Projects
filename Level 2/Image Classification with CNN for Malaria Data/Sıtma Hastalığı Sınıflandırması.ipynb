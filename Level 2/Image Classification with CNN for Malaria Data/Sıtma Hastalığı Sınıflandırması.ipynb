{
 "cells": [
  {
   "cell_type": "markdown",
   "id": "deabdce8-2fb1-44d2-b1b4-90297af17ab7",
   "metadata": {},
   "source": [
    "Bu projede sıtma hastalığının teşisi için model geliştirilmiştir.\n",
    "\n",
    "The dataset contains 2 folders\n",
    "\n",
    "Infected\n",
    "\n",
    "Uninfected\n",
    "\n",
    "And a total of 27,558 images.\n",
    "\n",
    "<a href='https://www.kaggle.com/datasets/iarunava/cell-images-for-detecting-malaria' target=_blank> Data dosyasını buradaki linkten indirebilirsiniz.\n",
    "\n",
    "\n"
   ]
  },
  {
   "cell_type": "markdown",
   "id": "f2f7e163-7360-42c1-a4c2-cbf647af7191",
   "metadata": {},
   "source": [
    "# Kütüphaneleri import ettik"
   ]
  },
  {
   "cell_type": "code",
   "execution_count": null,
   "id": "004f74c1-d3e0-4aac-9037-00a17235826b",
   "metadata": {},
   "outputs": [],
   "source": [
    "import cv2\n",
    "import pandas as pd\n",
    "import os \n",
    "import numpy as np\n",
    "import matplotlib.pyplot as plt\n",
    "\n",
    "from keras.layers import Dropout\n",
    "from sklearn.model_selection import train_test_split\n",
    "from keras.models import Sequential\n",
    "from keras.layers import Conv2D, Dense, Flatten, Input, MaxPooling2D, Dropout, BatchNormalization, Reshape"
   ]
  },
  {
   "cell_type": "markdown",
   "id": "561e9a87-29d2-4fd1-a140-95565d8452d9",
   "metadata": {},
   "source": [
    "# Klasörümüzü okuduk"
   ]
  },
  {
   "cell_type": "code",
   "execution_count": 21,
   "id": "db713869-9004-438b-bb84-ea49a12385bf",
   "metadata": {},
   "outputs": [],
   "source": [
    "labels=['Parasitized','Uninfected'] \n",
    "img_path='cell_images/'"
   ]
  },
  {
   "cell_type": "markdown",
   "id": "7f9c4904-72b7-4b5a-8d0d-a924045eb532",
   "metadata": {},
   "source": [
    "# Liste oluşturup verilerimizi ekledik"
   ]
  },
  {
   "cell_type": "code",
   "execution_count": 22,
   "id": "2ccaeff3-68b1-4b77-bc56-17b697d9a4a0",
   "metadata": {},
   "outputs": [],
   "source": [
    "img_list=[]\n",
    "label_list=[]\n",
    "for label in labels:\n",
    "    for img_file in os.listdir(img_path+label):\n",
    "        img_list.append(img_path + label + '/' + img_file)\n",
    "        label_list.append(label)"
   ]
  },
  {
   "cell_type": "markdown",
   "id": "aadeaf2d-378f-49fe-bf57-bd77ec5ed1a2",
   "metadata": {},
   "source": [
    "# DataFrame oluşturuyoruz"
   ]
  },
  {
   "cell_type": "code",
   "execution_count": 23,
   "id": "6b43f119-b6d6-4f53-a9c8-d5c71d3ec768",
   "metadata": {},
   "outputs": [],
   "source": [
    "df = pd.DataFrame({'img': img_list, 'label': label_list})\n",
    "df = df[~df['img'].str.contains('.DS_Store')]"
   ]
  },
  {
   "cell_type": "code",
   "execution_count": 24,
   "id": "ab846768-e746-4498-8911-4a363dd42215",
   "metadata": {},
   "outputs": [
    {
     "data": {
      "text/html": [
       "<div>\n",
       "<style scoped>\n",
       "    .dataframe tbody tr th:only-of-type {\n",
       "        vertical-align: middle;\n",
       "    }\n",
       "\n",
       "    .dataframe tbody tr th {\n",
       "        vertical-align: top;\n",
       "    }\n",
       "\n",
       "    .dataframe thead th {\n",
       "        text-align: right;\n",
       "    }\n",
       "</style>\n",
       "<table border=\"1\" class=\"dataframe\">\n",
       "  <thead>\n",
       "    <tr style=\"text-align: right;\">\n",
       "      <th></th>\n",
       "      <th>img</th>\n",
       "      <th>label</th>\n",
       "    </tr>\n",
       "  </thead>\n",
       "  <tbody>\n",
       "    <tr>\n",
       "      <th>0</th>\n",
       "      <td>cell_images/Parasitized/C118P79ThinF_IMG_20151...</td>\n",
       "      <td>Parasitized</td>\n",
       "    </tr>\n",
       "    <tr>\n",
       "      <th>1</th>\n",
       "      <td>cell_images/Parasitized/C189P150ThinF_IMG_2015...</td>\n",
       "      <td>Parasitized</td>\n",
       "    </tr>\n",
       "    <tr>\n",
       "      <th>2</th>\n",
       "      <td>cell_images/Parasitized/C91P52ThinF_IMG_201508...</td>\n",
       "      <td>Parasitized</td>\n",
       "    </tr>\n",
       "    <tr>\n",
       "      <th>3</th>\n",
       "      <td>cell_images/Parasitized/C84P45ThinF_IMG_201508...</td>\n",
       "      <td>Parasitized</td>\n",
       "    </tr>\n",
       "    <tr>\n",
       "      <th>4</th>\n",
       "      <td>cell_images/Parasitized/C144P105ThinF_IMG_2015...</td>\n",
       "      <td>Parasitized</td>\n",
       "    </tr>\n",
       "  </tbody>\n",
       "</table>\n",
       "</div>"
      ],
      "text/plain": [
       "                                                 img        label\n",
       "0  cell_images/Parasitized/C118P79ThinF_IMG_20151...  Parasitized\n",
       "1  cell_images/Parasitized/C189P150ThinF_IMG_2015...  Parasitized\n",
       "2  cell_images/Parasitized/C91P52ThinF_IMG_201508...  Parasitized\n",
       "3  cell_images/Parasitized/C84P45ThinF_IMG_201508...  Parasitized\n",
       "4  cell_images/Parasitized/C144P105ThinF_IMG_2015...  Parasitized"
      ]
     },
     "execution_count": 24,
     "metadata": {},
     "output_type": "execute_result"
    }
   ],
   "source": [
    "df.head()"
   ]
  },
  {
   "cell_type": "code",
   "execution_count": 25,
   "id": "6f921b7d-56b3-4929-a637-09b90b11cab3",
   "metadata": {},
   "outputs": [
    {
     "data": {
      "text/html": [
       "<div>\n",
       "<style scoped>\n",
       "    .dataframe tbody tr th:only-of-type {\n",
       "        vertical-align: middle;\n",
       "    }\n",
       "\n",
       "    .dataframe tbody tr th {\n",
       "        vertical-align: top;\n",
       "    }\n",
       "\n",
       "    .dataframe thead th {\n",
       "        text-align: right;\n",
       "    }\n",
       "</style>\n",
       "<table border=\"1\" class=\"dataframe\">\n",
       "  <thead>\n",
       "    <tr style=\"text-align: right;\">\n",
       "      <th></th>\n",
       "      <th>img</th>\n",
       "      <th>label</th>\n",
       "    </tr>\n",
       "  </thead>\n",
       "  <tbody>\n",
       "    <tr>\n",
       "      <th>27555</th>\n",
       "      <td>cell_images/Uninfected/C206ThinF_IMG_20151029_...</td>\n",
       "      <td>Uninfected</td>\n",
       "    </tr>\n",
       "    <tr>\n",
       "      <th>27556</th>\n",
       "      <td>cell_images/Uninfected/C204ThinF_IMG_20151029_...</td>\n",
       "      <td>Uninfected</td>\n",
       "    </tr>\n",
       "    <tr>\n",
       "      <th>27557</th>\n",
       "      <td>cell_images/Uninfected/C145P106ThinF_IMG_20151...</td>\n",
       "      <td>Uninfected</td>\n",
       "    </tr>\n",
       "    <tr>\n",
       "      <th>27558</th>\n",
       "      <td>cell_images/Uninfected/C112P73ThinF_IMG_201509...</td>\n",
       "      <td>Uninfected</td>\n",
       "    </tr>\n",
       "    <tr>\n",
       "      <th>27559</th>\n",
       "      <td>cell_images/Uninfected/C212ThinF_IMG_20151106_...</td>\n",
       "      <td>Uninfected</td>\n",
       "    </tr>\n",
       "  </tbody>\n",
       "</table>\n",
       "</div>"
      ],
      "text/plain": [
       "                                                     img       label\n",
       "27555  cell_images/Uninfected/C206ThinF_IMG_20151029_...  Uninfected\n",
       "27556  cell_images/Uninfected/C204ThinF_IMG_20151029_...  Uninfected\n",
       "27557  cell_images/Uninfected/C145P106ThinF_IMG_20151...  Uninfected\n",
       "27558  cell_images/Uninfected/C112P73ThinF_IMG_201509...  Uninfected\n",
       "27559  cell_images/Uninfected/C212ThinF_IMG_20151106_...  Uninfected"
      ]
     },
     "execution_count": 25,
     "metadata": {},
     "output_type": "execute_result"
    }
   ],
   "source": [
    "df.tail()"
   ]
  },
  {
   "cell_type": "markdown",
   "id": "a35455b5-5ac2-454d-9f7d-b2f975d09d0f",
   "metadata": {},
   "source": [
    "# Verileri sayısal hale getiriyoruz"
   ]
  },
  {
   "cell_type": "code",
   "execution_count": 26,
   "id": "80cf3aba-9241-4c01-b4f0-c0d2d9e25583",
   "metadata": {},
   "outputs": [],
   "source": [
    "d={'Parasitized':1,'Uninfected':0}"
   ]
  },
  {
   "cell_type": "markdown",
   "id": "cb4e397f-c83a-445a-8e0a-496ca923c7ce",
   "metadata": {},
   "source": [
    "# label sütununu 1 ve 0 olarak güncelliyoruz"
   ]
  },
  {
   "cell_type": "code",
   "execution_count": 27,
   "id": "282db34d-71c4-4f0b-a262-9f3d116d8cae",
   "metadata": {},
   "outputs": [],
   "source": [
    "df['encode_label']=df['label'].map(d)"
   ]
  },
  {
   "cell_type": "code",
   "execution_count": 28,
   "id": "3e5168d5-3fbf-488a-ad0b-2cdca174308b",
   "metadata": {},
   "outputs": [
    {
     "data": {
      "text/html": [
       "<div>\n",
       "<style scoped>\n",
       "    .dataframe tbody tr th:only-of-type {\n",
       "        vertical-align: middle;\n",
       "    }\n",
       "\n",
       "    .dataframe tbody tr th {\n",
       "        vertical-align: top;\n",
       "    }\n",
       "\n",
       "    .dataframe thead th {\n",
       "        text-align: right;\n",
       "    }\n",
       "</style>\n",
       "<table border=\"1\" class=\"dataframe\">\n",
       "  <thead>\n",
       "    <tr style=\"text-align: right;\">\n",
       "      <th></th>\n",
       "      <th>img</th>\n",
       "      <th>label</th>\n",
       "      <th>encode_label</th>\n",
       "    </tr>\n",
       "  </thead>\n",
       "  <tbody>\n",
       "    <tr>\n",
       "      <th>27555</th>\n",
       "      <td>cell_images/Uninfected/C206ThinF_IMG_20151029_...</td>\n",
       "      <td>Uninfected</td>\n",
       "      <td>0</td>\n",
       "    </tr>\n",
       "    <tr>\n",
       "      <th>27556</th>\n",
       "      <td>cell_images/Uninfected/C204ThinF_IMG_20151029_...</td>\n",
       "      <td>Uninfected</td>\n",
       "      <td>0</td>\n",
       "    </tr>\n",
       "    <tr>\n",
       "      <th>27557</th>\n",
       "      <td>cell_images/Uninfected/C145P106ThinF_IMG_20151...</td>\n",
       "      <td>Uninfected</td>\n",
       "      <td>0</td>\n",
       "    </tr>\n",
       "    <tr>\n",
       "      <th>27558</th>\n",
       "      <td>cell_images/Uninfected/C112P73ThinF_IMG_201509...</td>\n",
       "      <td>Uninfected</td>\n",
       "      <td>0</td>\n",
       "    </tr>\n",
       "    <tr>\n",
       "      <th>27559</th>\n",
       "      <td>cell_images/Uninfected/C212ThinF_IMG_20151106_...</td>\n",
       "      <td>Uninfected</td>\n",
       "      <td>0</td>\n",
       "    </tr>\n",
       "  </tbody>\n",
       "</table>\n",
       "</div>"
      ],
      "text/plain": [
       "                                                     img       label  \\\n",
       "27555  cell_images/Uninfected/C206ThinF_IMG_20151029_...  Uninfected   \n",
       "27556  cell_images/Uninfected/C204ThinF_IMG_20151029_...  Uninfected   \n",
       "27557  cell_images/Uninfected/C145P106ThinF_IMG_20151...  Uninfected   \n",
       "27558  cell_images/Uninfected/C112P73ThinF_IMG_201509...  Uninfected   \n",
       "27559  cell_images/Uninfected/C212ThinF_IMG_20151106_...  Uninfected   \n",
       "\n",
       "       encode_label  \n",
       "27555             0  \n",
       "27556             0  \n",
       "27557             0  \n",
       "27558             0  \n",
       "27559             0  "
      ]
     },
     "execution_count": 28,
     "metadata": {},
     "output_type": "execute_result"
    }
   ],
   "source": [
    "df.tail()"
   ]
  },
  {
   "cell_type": "markdown",
   "id": "9507cdbc-04ef-42dc-8de9-13f2bdb146ae",
   "metadata": {},
   "source": [
    "# Görüntüyü okuyup normalize ettik"
   ]
  },
  {
   "cell_type": "code",
   "execution_count": 29,
   "id": "1f50b39a-b67f-47f2-b4b7-78d7cd10e7a4",
   "metadata": {},
   "outputs": [],
   "source": [
    "x = []\n",
    "for img_path in df['img']:\n",
    "    img = cv2.imread(img_path)\n",
    "    if img is None:\n",
    "        print(f\"Bozuk veya okunamayan görüntü: {img_path}\") # Projemiz içinde bozuk görüntüler vardı onları atlayıp devam ettik\n",
    "        continue  # Bozuk görüntüyü atla\n",
    "    img = cv2.resize(img, (170, 170))  # boyutunu 170x170 yaptık\n",
    "    img = img / 255.0  # normalize ettik\n",
    "    x.append(img)\n"
   ]
  },
  {
   "cell_type": "markdown",
   "id": "d582ba5a-b37f-4abd-bde2-551cde34974f",
   "metadata": {},
   "source": [
    "# x listesini arraye dönüştürdü"
   ]
  },
  {
   "cell_type": "code",
   "execution_count": 30,
   "id": "0775de54-f2da-4a3b-8f34-59e5c022f80f",
   "metadata": {},
   "outputs": [],
   "source": [
    "x=np.array(x)"
   ]
  },
  {
   "cell_type": "markdown",
   "id": "315d4e02-40fb-4af3-9213-8156397aacf2",
   "metadata": {},
   "source": [
    "# encode_label sütununu y ye atadık"
   ]
  },
  {
   "cell_type": "code",
   "execution_count": 31,
   "id": "b08b977f-b8c1-4c70-9824-a8bc90377dee",
   "metadata": {},
   "outputs": [],
   "source": [
    "y=df['encode_label']"
   ]
  },
  {
   "cell_type": "markdown",
   "id": "e192d7a1-4d95-4beb-9fb6-78888f0d54c7",
   "metadata": {},
   "source": [
    "# eğitim ve test verilerine ayırıp train test split yaptık"
   ]
  },
  {
   "cell_type": "code",
   "execution_count": 32,
   "id": "fc257822-3651-4fc3-a92d-0e5056280d8c",
   "metadata": {},
   "outputs": [],
   "source": [
    "x_train,x_test,y_train,y_test=train_test_split(x,y,test_size=.20,random_state=42)"
   ]
  },
  {
   "cell_type": "markdown",
   "id": "f90a4f3d-1fd6-49d2-a22f-9d5d92b85aa3",
   "metadata": {},
   "source": [
    "# DNN modeli oluşturduk"
   ]
  },
  {
   "cell_type": "code",
   "execution_count": 35,
   "id": "21e42821-dcb5-48cb-9ae3-0c1aeda8f089",
   "metadata": {},
   "outputs": [],
   "source": [
    "model = Sequential()\n",
    "model.add(Input(shape=(170, 170, 3)))\n",
    "model.add(Conv2D(32, kernel_size=(3, 3), activation='relu'))\n",
    "model.add(MaxPooling2D(pool_size=(2, 2)))\n",
    "model.add(Dropout(0.25))  # %25 Dropout ekledik\n",
    "\n",
    "model.add(Conv2D(64, kernel_size=(3, 3), activation='relu'))\n",
    "model.add(MaxPooling2D(pool_size=(2, 2)))\n",
    "model.add(Dropout(0.25))  # %25 Dropout ekledik\n",
    "\n",
    "model.add(Flatten())\n",
    "model.add(Dense(128, activation='relu'))\n",
    "model.add(Dropout(0.5))  # %50 Dropout ekledik amaç overfittingi engellemek    \n",
    "model.add(Dense(2, activation='softmax'))\n",
    "\n",
    "model.compile(optimizer='adam',loss='sparse_categorical_crossentropy',metrics=['accuracy'])"
   ]
  },
  {
   "cell_type": "markdown",
   "id": "83beb048-aba8-4e90-b448-5ccd8bd2175c",
   "metadata": {},
   "source": [
    "# Modeli eğittik"
   ]
  },
  {
   "cell_type": "code",
   "execution_count": 36,
   "id": "5bec7746-01e4-4673-a289-97b55dbbbc15",
   "metadata": {
    "scrolled": true
   },
   "outputs": [
    {
     "name": "stdout",
     "output_type": "stream",
     "text": [
      "Epoch 1/50\n",
      "\u001b[1m689/689\u001b[0m \u001b[32m━━━━━━━━━━━━━━━━━━━━\u001b[0m\u001b[37m\u001b[0m \u001b[1m117s\u001b[0m 169ms/step - accuracy: 0.6736 - loss: 0.8572 - val_accuracy: 0.9294 - val_loss: 0.2076\n",
      "Epoch 2/50\n",
      "\u001b[1m689/689\u001b[0m \u001b[32m━━━━━━━━━━━━━━━━━━━━\u001b[0m\u001b[37m\u001b[0m \u001b[1m103s\u001b[0m 150ms/step - accuracy: 0.9262 - loss: 0.2417 - val_accuracy: 0.9369 - val_loss: 0.1980\n",
      "Epoch 3/50\n",
      "\u001b[1m689/689\u001b[0m \u001b[32m━━━━━━━━━━━━━━━━━━━━\u001b[0m\u001b[37m\u001b[0m \u001b[1m102s\u001b[0m 148ms/step - accuracy: 0.9384 - loss: 0.1933 - val_accuracy: 0.9374 - val_loss: 0.1866\n",
      "Epoch 4/50\n",
      "\u001b[1m689/689\u001b[0m \u001b[32m━━━━━━━━━━━━━━━━━━━━\u001b[0m\u001b[37m\u001b[0m \u001b[1m102s\u001b[0m 148ms/step - accuracy: 0.9392 - loss: 0.1683 - val_accuracy: 0.9394 - val_loss: 0.2180\n",
      "Epoch 5/50\n",
      "\u001b[1m689/689\u001b[0m \u001b[32m━━━━━━━━━━━━━━━━━━━━\u001b[0m\u001b[37m\u001b[0m \u001b[1m106s\u001b[0m 153ms/step - accuracy: 0.9423 - loss: 0.1643 - val_accuracy: 0.9298 - val_loss: 0.1749\n",
      "Epoch 6/50\n",
      "\u001b[1m689/689\u001b[0m \u001b[32m━━━━━━━━━━━━━━━━━━━━\u001b[0m\u001b[37m\u001b[0m \u001b[1m105s\u001b[0m 152ms/step - accuracy: 0.9466 - loss: 0.1404 - val_accuracy: 0.9291 - val_loss: 0.1882\n",
      "Epoch 7/50\n",
      "\u001b[1m689/689\u001b[0m \u001b[32m━━━━━━━━━━━━━━━━━━━━\u001b[0m\u001b[37m\u001b[0m \u001b[1m102s\u001b[0m 148ms/step - accuracy: 0.9517 - loss: 0.1379 - val_accuracy: 0.9347 - val_loss: 0.2091\n",
      "Epoch 8/50\n",
      "\u001b[1m689/689\u001b[0m \u001b[32m━━━━━━━━━━━━━━━━━━━━\u001b[0m\u001b[37m\u001b[0m \u001b[1m102s\u001b[0m 148ms/step - accuracy: 0.9528 - loss: 0.1156 - val_accuracy: 0.9320 - val_loss: 0.2019\n",
      "Epoch 9/50\n",
      "\u001b[1m689/689\u001b[0m \u001b[32m━━━━━━━━━━━━━━━━━━━━\u001b[0m\u001b[37m\u001b[0m \u001b[1m105s\u001b[0m 152ms/step - accuracy: 0.9601 - loss: 0.0977 - val_accuracy: 0.9349 - val_loss: 0.2135\n",
      "Epoch 10/50\n",
      "\u001b[1m689/689\u001b[0m \u001b[32m━━━━━━━━━━━━━━━━━━━━\u001b[0m\u001b[37m\u001b[0m \u001b[1m102s\u001b[0m 148ms/step - accuracy: 0.9646 - loss: 0.1020 - val_accuracy: 0.9292 - val_loss: 0.2282\n",
      "Epoch 11/50\n",
      "\u001b[1m689/689\u001b[0m \u001b[32m━━━━━━━━━━━━━━━━━━━━\u001b[0m\u001b[37m\u001b[0m \u001b[1m102s\u001b[0m 149ms/step - accuracy: 0.9683 - loss: 0.0869 - val_accuracy: 0.9434 - val_loss: 0.2747\n",
      "Epoch 12/50\n",
      "\u001b[1m689/689\u001b[0m \u001b[32m━━━━━━━━━━━━━━━━━━━━\u001b[0m\u001b[37m\u001b[0m \u001b[1m102s\u001b[0m 148ms/step - accuracy: 0.9716 - loss: 0.0795 - val_accuracy: 0.9412 - val_loss: 0.2759\n",
      "Epoch 13/50\n",
      "\u001b[1m689/689\u001b[0m \u001b[32m━━━━━━━━━━━━━━━━━━━━\u001b[0m\u001b[37m\u001b[0m \u001b[1m103s\u001b[0m 149ms/step - accuracy: 0.9742 - loss: 0.0728 - val_accuracy: 0.9396 - val_loss: 0.2903\n",
      "Epoch 14/50\n",
      "\u001b[1m689/689\u001b[0m \u001b[32m━━━━━━━━━━━━━━━━━━━━\u001b[0m\u001b[37m\u001b[0m \u001b[1m103s\u001b[0m 150ms/step - accuracy: 0.9785 - loss: 0.0608 - val_accuracy: 0.9452 - val_loss: 0.2538\n",
      "Epoch 15/50\n",
      "\u001b[1m689/689\u001b[0m \u001b[32m━━━━━━━━━━━━━━━━━━━━\u001b[0m\u001b[37m\u001b[0m \u001b[1m106s\u001b[0m 154ms/step - accuracy: 0.9762 - loss: 0.0635 - val_accuracy: 0.9383 - val_loss: 0.3229\n",
      "Epoch 16/50\n",
      "\u001b[1m689/689\u001b[0m \u001b[32m━━━━━━━━━━━━━━━━━━━━\u001b[0m\u001b[37m\u001b[0m \u001b[1m106s\u001b[0m 153ms/step - accuracy: 0.9812 - loss: 0.0520 - val_accuracy: 0.9436 - val_loss: 0.3176\n",
      "Epoch 17/50\n",
      "\u001b[1m689/689\u001b[0m \u001b[32m━━━━━━━━━━━━━━━━━━━━\u001b[0m\u001b[37m\u001b[0m \u001b[1m104s\u001b[0m 151ms/step - accuracy: 0.9836 - loss: 0.0486 - val_accuracy: 0.9412 - val_loss: 0.3148\n",
      "Epoch 18/50\n",
      "\u001b[1m689/689\u001b[0m \u001b[32m━━━━━━━━━━━━━━━━━━━━\u001b[0m\u001b[37m\u001b[0m \u001b[1m105s\u001b[0m 152ms/step - accuracy: 0.9809 - loss: 0.0501 - val_accuracy: 0.9381 - val_loss: 0.3827\n",
      "Epoch 19/50\n",
      "\u001b[1m689/689\u001b[0m \u001b[32m━━━━━━━━━━━━━━━━━━━━\u001b[0m\u001b[37m\u001b[0m \u001b[1m103s\u001b[0m 149ms/step - accuracy: 0.9797 - loss: 0.0614 - val_accuracy: 0.9399 - val_loss: 0.3791\n",
      "Epoch 20/50\n",
      "\u001b[1m689/689\u001b[0m \u001b[32m━━━━━━━━━━━━━━━━━━━━\u001b[0m\u001b[37m\u001b[0m \u001b[1m103s\u001b[0m 149ms/step - accuracy: 0.9801 - loss: 0.0714 - val_accuracy: 0.9421 - val_loss: 0.3636\n",
      "Epoch 21/50\n",
      "\u001b[1m689/689\u001b[0m \u001b[32m━━━━━━━━━━━━━━━━━━━━\u001b[0m\u001b[37m\u001b[0m \u001b[1m103s\u001b[0m 150ms/step - accuracy: 0.9861 - loss: 0.0406 - val_accuracy: 0.9390 - val_loss: 0.4161\n",
      "Epoch 22/50\n",
      "\u001b[1m689/689\u001b[0m \u001b[32m━━━━━━━━━━━━━━━━━━━━\u001b[0m\u001b[37m\u001b[0m \u001b[1m103s\u001b[0m 150ms/step - accuracy: 0.9828 - loss: 0.0488 - val_accuracy: 0.9421 - val_loss: 0.3842\n",
      "Epoch 23/50\n",
      "\u001b[1m689/689\u001b[0m \u001b[32m━━━━━━━━━━━━━━━━━━━━\u001b[0m\u001b[37m\u001b[0m \u001b[1m104s\u001b[0m 150ms/step - accuracy: 0.9827 - loss: 0.0523 - val_accuracy: 0.9383 - val_loss: 0.4331\n",
      "Epoch 24/50\n",
      "\u001b[1m689/689\u001b[0m \u001b[32m━━━━━━━━━━━━━━━━━━━━\u001b[0m\u001b[37m\u001b[0m \u001b[1m103s\u001b[0m 149ms/step - accuracy: 0.9838 - loss: 0.0464 - val_accuracy: 0.9349 - val_loss: 0.3957\n",
      "Epoch 25/50\n",
      "\u001b[1m689/689\u001b[0m \u001b[32m━━━━━━━━━━━━━━━━━━━━\u001b[0m\u001b[37m\u001b[0m \u001b[1m103s\u001b[0m 149ms/step - accuracy: 0.9872 - loss: 0.0393 - val_accuracy: 0.9416 - val_loss: 0.3582\n",
      "Epoch 26/50\n",
      "\u001b[1m689/689\u001b[0m \u001b[32m━━━━━━━━━━━━━━━━━━━━\u001b[0m\u001b[37m\u001b[0m \u001b[1m103s\u001b[0m 149ms/step - accuracy: 0.9886 - loss: 0.0344 - val_accuracy: 0.9392 - val_loss: 0.4349\n",
      "Epoch 27/50\n",
      "\u001b[1m689/689\u001b[0m \u001b[32m━━━━━━━━━━━━━━━━━━━━\u001b[0m\u001b[37m\u001b[0m \u001b[1m102s\u001b[0m 149ms/step - accuracy: 0.9848 - loss: 0.0456 - val_accuracy: 0.9343 - val_loss: 0.4569\n",
      "Epoch 28/50\n",
      "\u001b[1m689/689\u001b[0m \u001b[32m━━━━━━━━━━━━━━━━━━━━\u001b[0m\u001b[37m\u001b[0m \u001b[1m103s\u001b[0m 149ms/step - accuracy: 0.9889 - loss: 0.0361 - val_accuracy: 0.9356 - val_loss: 0.4728\n",
      "Epoch 29/50\n",
      "\u001b[1m689/689\u001b[0m \u001b[32m━━━━━━━━━━━━━━━━━━━━\u001b[0m\u001b[37m\u001b[0m \u001b[1m103s\u001b[0m 149ms/step - accuracy: 0.9891 - loss: 0.0368 - val_accuracy: 0.9414 - val_loss: 0.4570\n",
      "Epoch 30/50\n",
      "\u001b[1m689/689\u001b[0m \u001b[32m━━━━━━━━━━━━━━━━━━━━\u001b[0m\u001b[37m\u001b[0m \u001b[1m103s\u001b[0m 149ms/step - accuracy: 0.9894 - loss: 0.0307 - val_accuracy: 0.9363 - val_loss: 0.4240\n",
      "Epoch 31/50\n",
      "\u001b[1m689/689\u001b[0m \u001b[32m━━━━━━━━━━━━━━━━━━━━\u001b[0m\u001b[37m\u001b[0m \u001b[1m103s\u001b[0m 150ms/step - accuracy: 0.9897 - loss: 0.0325 - val_accuracy: 0.9351 - val_loss: 0.4517\n",
      "Epoch 32/50\n",
      "\u001b[1m689/689\u001b[0m \u001b[32m━━━━━━━━━━━━━━━━━━━━\u001b[0m\u001b[37m\u001b[0m \u001b[1m103s\u001b[0m 150ms/step - accuracy: 0.9892 - loss: 0.0412 - val_accuracy: 0.9345 - val_loss: 0.4642\n",
      "Epoch 33/50\n",
      "\u001b[1m689/689\u001b[0m \u001b[32m━━━━━━━━━━━━━━━━━━━━\u001b[0m\u001b[37m\u001b[0m \u001b[1m103s\u001b[0m 149ms/step - accuracy: 0.9925 - loss: 0.0266 - val_accuracy: 0.9347 - val_loss: 0.5037\n",
      "Epoch 34/50\n",
      "\u001b[1m689/689\u001b[0m \u001b[32m━━━━━━━━━━━━━━━━━━━━\u001b[0m\u001b[37m\u001b[0m \u001b[1m104s\u001b[0m 151ms/step - accuracy: 0.9892 - loss: 0.0400 - val_accuracy: 0.9360 - val_loss: 0.5284\n",
      "Epoch 35/50\n",
      "\u001b[1m689/689\u001b[0m \u001b[32m━━━━━━━━━━━━━━━━━━━━\u001b[0m\u001b[37m\u001b[0m \u001b[1m103s\u001b[0m 149ms/step - accuracy: 0.9917 - loss: 0.0283 - val_accuracy: 0.9432 - val_loss: 0.4044\n",
      "Epoch 36/50\n",
      "\u001b[1m689/689\u001b[0m \u001b[32m━━━━━━━━━━━━━━━━━━━━\u001b[0m\u001b[37m\u001b[0m \u001b[1m103s\u001b[0m 150ms/step - accuracy: 0.9911 - loss: 0.0269 - val_accuracy: 0.9360 - val_loss: 0.4473\n",
      "Epoch 37/50\n",
      "\u001b[1m689/689\u001b[0m \u001b[32m━━━━━━━━━━━━━━━━━━━━\u001b[0m\u001b[37m\u001b[0m \u001b[1m103s\u001b[0m 149ms/step - accuracy: 0.9909 - loss: 0.0258 - val_accuracy: 0.9289 - val_loss: 0.4958\n",
      "Epoch 38/50\n",
      "\u001b[1m689/689\u001b[0m \u001b[32m━━━━━━━━━━━━━━━━━━━━\u001b[0m\u001b[37m\u001b[0m \u001b[1m103s\u001b[0m 149ms/step - accuracy: 0.9907 - loss: 0.0346 - val_accuracy: 0.9276 - val_loss: 0.5615\n",
      "Epoch 39/50\n",
      "\u001b[1m689/689\u001b[0m \u001b[32m━━━━━━━━━━━━━━━━━━━━\u001b[0m\u001b[37m\u001b[0m \u001b[1m103s\u001b[0m 149ms/step - accuracy: 0.9884 - loss: 0.0334 - val_accuracy: 0.9311 - val_loss: 0.5286\n",
      "Epoch 40/50\n",
      "\u001b[1m689/689\u001b[0m \u001b[32m━━━━━━━━━━━━━━━━━━━━\u001b[0m\u001b[37m\u001b[0m \u001b[1m103s\u001b[0m 150ms/step - accuracy: 0.9899 - loss: 0.0277 - val_accuracy: 0.9456 - val_loss: 0.4775\n",
      "Epoch 41/50\n",
      "\u001b[1m689/689\u001b[0m \u001b[32m━━━━━━━━━━━━━━━━━━━━\u001b[0m\u001b[37m\u001b[0m \u001b[1m103s\u001b[0m 150ms/step - accuracy: 0.9908 - loss: 0.0324 - val_accuracy: 0.9278 - val_loss: 0.5127\n",
      "Epoch 42/50\n",
      "\u001b[1m689/689\u001b[0m \u001b[32m━━━━━━━━━━━━━━━━━━━━\u001b[0m\u001b[37m\u001b[0m \u001b[1m103s\u001b[0m 150ms/step - accuracy: 0.9908 - loss: 0.0306 - val_accuracy: 0.9242 - val_loss: 0.5919\n",
      "Epoch 43/50\n",
      "\u001b[1m689/689\u001b[0m \u001b[32m━━━━━━━━━━━━━━━━━━━━\u001b[0m\u001b[37m\u001b[0m \u001b[1m945s\u001b[0m 1s/step - accuracy: 0.9928 - loss: 0.0284 - val_accuracy: 0.9429 - val_loss: 0.5794\n",
      "Epoch 44/50\n",
      "\u001b[1m689/689\u001b[0m \u001b[32m━━━━━━━━━━━━━━━━━━━━\u001b[0m\u001b[37m\u001b[0m \u001b[1m104s\u001b[0m 151ms/step - accuracy: 0.9924 - loss: 0.0259 - val_accuracy: 0.9399 - val_loss: 0.5414\n",
      "Epoch 45/50\n",
      "\u001b[1m689/689\u001b[0m \u001b[32m━━━━━━━━━━━━━━━━━━━━\u001b[0m\u001b[37m\u001b[0m \u001b[1m105s\u001b[0m 153ms/step - accuracy: 0.9921 - loss: 0.0251 - val_accuracy: 0.9418 - val_loss: 0.6055\n",
      "Epoch 46/50\n",
      "\u001b[1m689/689\u001b[0m \u001b[32m━━━━━━━━━━━━━━━━━━━━\u001b[0m\u001b[37m\u001b[0m \u001b[1m104s\u001b[0m 150ms/step - accuracy: 0.9904 - loss: 0.0336 - val_accuracy: 0.9367 - val_loss: 0.5404\n",
      "Epoch 47/50\n",
      "\u001b[1m689/689\u001b[0m \u001b[32m━━━━━━━━━━━━━━━━━━━━\u001b[0m\u001b[37m\u001b[0m \u001b[1m105s\u001b[0m 152ms/step - accuracy: 0.9920 - loss: 0.0233 - val_accuracy: 0.9405 - val_loss: 0.6509\n",
      "Epoch 48/50\n",
      "\u001b[1m689/689\u001b[0m \u001b[32m━━━━━━━━━━━━━━━━━━━━\u001b[0m\u001b[37m\u001b[0m \u001b[1m104s\u001b[0m 151ms/step - accuracy: 0.9928 - loss: 0.0221 - val_accuracy: 0.9378 - val_loss: 0.6234\n",
      "Epoch 49/50\n",
      "\u001b[1m689/689\u001b[0m \u001b[32m━━━━━━━━━━━━━━━━━━━━\u001b[0m\u001b[37m\u001b[0m \u001b[1m107s\u001b[0m 155ms/step - accuracy: 0.9951 - loss: 0.0155 - val_accuracy: 0.9432 - val_loss: 0.6010\n",
      "Epoch 50/50\n",
      "\u001b[1m689/689\u001b[0m \u001b[32m━━━━━━━━━━━━━━━━━━━━\u001b[0m\u001b[37m\u001b[0m \u001b[1m105s\u001b[0m 153ms/step - accuracy: 0.9947 - loss: 0.0183 - val_accuracy: 0.9396 - val_loss: 0.5028\n"
     ]
    }
   ],
   "source": [
    "history=model.fit(x_train,y_train,validation_data=(x_test,y_test), epochs=50, verbose=1)"
   ]
  },
  {
   "cell_type": "markdown",
   "id": "52329c0a-8529-463d-93a1-9ada86f20fad",
   "metadata": {},
   "source": [
    "# Modelin grafiğini çizdik"
   ]
  },
  {
   "cell_type": "code",
   "execution_count": 38,
   "id": "42776a89-e98d-49b5-bcf5-65de94204bc0",
   "metadata": {},
   "outputs": [
    {
     "data": {
      "image/png": "[encoded data removed]",
      "text/plain": [
       "<Figure size 1200x400 with 2 Axes>"
      ]
     },
     "metadata": {},
     "output_type": "display_data"
    }
   ],
   "source": [
    "# Modelin eğitim ve doğrulama kaybını ve doğruluğunu çiz\n",
    "plt.figure(figsize=(12, 4))\n",
    "\n",
    "# Kayıp grafiği\n",
    "plt.subplot(1, 2, 1)\n",
    "plt.plot(history.history['loss'], label='Eğitim Kaybı')\n",
    "plt.plot(history.history['val_loss'], label='Doğrulama Kaybı')\n",
    "plt.xlabel('Epoch')\n",
    "plt.ylabel('Kayıp')\n",
    "plt.legend()\n",
    "plt.title('Eğitim ve Doğrulama Kaybı')\n",
    "\n",
    "# Doğruluk grafiği\n",
    "plt.subplot(1, 2, 2)\n",
    "plt.plot(history.history['accuracy'], label='Eğitim Doğruluğu')\n",
    "plt.plot(history.history['val_accuracy'], label='Doğrulama Doğruluğu')\n",
    "plt.xlabel('Epoch')\n",
    "plt.ylabel('Doğruluk')\n",
    "plt.legend()\n",
    "plt.title('Eğitim ve Doğrulama Doğruluğu')\n",
    "\n",
    "plt.show()\n"
   ]
  },
  {
   "cell_type": "markdown",
   "id": "2d03c14b-6f05-4a03-8e16-2c2f910e1285",
   "metadata": {},
   "source": [
    "# Sonuç"
   ]
  },
  {
   "cell_type": "raw",
   "id": "4eb163d7-4e14-4d8b-93df-8bc294910bef",
   "metadata": {},
   "source": [
    "Bu projede, derin öğrenme tekniklerinden Convolutional Neural Network (CNN) kullanarak sıtma hastalığını hücresel görüntüler üzerinden tanımlamak için bir model geliştirdik. Sıtma, dünyanın pek çok bölgesinde büyük bir sağlık sorunu olmaya devam ediyor ve hızlı tanı yöntemleri hastalığın erken teşhisinde kritik öneme sahip. Bu proje ile modelimiz, parazit taşıyan (enfekte) ve taşımayan (enfekte olmayan) hücreleri ayırt edebilme yeteneği kazandı.\n",
    "\n",
    "Eğitim sonuçlarına göre modelimiz:\n",
    "\n",
    "Eğitim doğruluğu (accuracy): %99.08,\n",
    "Doğrulama doğruluğu (val_accuracy): %94.29 oranında başarı sağlamıştır.\n",
    "Bu oranlar, modelin eğitim ve doğrulama veri setlerinde yüksek doğruluk ve düşük hata oranlarına ulaştığını göstermektedir. Ayrıca, modelin doğrulama veri setinde de yüksek performans göstermesi, modelin iyi bir genelleme kapasitesine sahip olduğunu ve aşırı öğrenme (overfitting) sorununun azaltıldığını işaret etmektedir."
   ]
  }
 ],
 "metadata": {
  "kernelspec": {
   "display_name": "Python 3 (ipykernel)",
   "language": "python",
   "name": "python3"
  },
  "language_info": {
   "codemirror_mode": {
    "name": "ipython",
    "version": 3
   },
   "file_extension": ".py",
   "mimetype": "text/x-python",
   "name": "python",
   "nbconvert_exporter": "python",
   "pygments_lexer": "ipython3",
   "version": "3.12.2"
  }
 },
 "nbformat": 4,
 "nbformat_minor": 5
}
